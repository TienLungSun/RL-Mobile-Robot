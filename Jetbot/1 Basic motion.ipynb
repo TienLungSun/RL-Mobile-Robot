{
  "nbformat": 4,
  "nbformat_minor": 0,
  "metadata": {
    "kernelspec": {
      "display_name": "Python 3",
      "language": "python",
      "name": "python3"
    },
    "language_info": {
      "codemirror_mode": {
        "name": "ipython",
        "version": 3
      },
      "file_extension": ".py",
      "mimetype": "text/x-python",
      "name": "python",
      "nbconvert_exporter": "python",
      "pygments_lexer": "ipython3",
      "version": "3.6.9"
    },
    "colab": {
      "name": "1 Basic motion.ipynb",
      "provenance": []
    }
  },
  "cells": [
    {
      "cell_type": "code",
      "metadata": {
        "id": "nWkhgMcyiUTF"
      },
      "source": [
        "from jetbot import Robot\r\n",
        "import time"
      ],
      "execution_count": null,
      "outputs": []
    },
    {
      "cell_type": "code",
      "metadata": {
        "scrolled": true,
        "id": "3MKWs21viUTZ"
      },
      "source": [
        "robot = Robot()"
      ],
      "execution_count": null,
      "outputs": []
    },
    {
      "cell_type": "markdown",
      "metadata": {
        "id": "VoWiNN3-ibqZ"
      },
      "source": [
        "#找出讓robot 往前走75公分的對應參數"
      ]
    },
    {
      "cell_type": "code",
      "metadata": {
        "id": "kqdlDYgiia62"
      },
      "source": [
        "speed = 0.5\r\n",
        "duration = 3\r\n",
        "robot.forward(speed)\r\n",
        "time.sleep(duration)\r\n",
        "robot.stop()"
      ],
      "execution_count": null,
      "outputs": []
    },
    {
      "cell_type": "markdown",
      "metadata": {
        "id": "PaMIJW_Bi2Z-"
      },
      "source": [
        "#找出讓robot turn right 45度的對應參數"
      ]
    },
    {
      "cell_type": "code",
      "metadata": {
        "id": "Ts6HD20-iUTb"
      },
      "source": [
        "speed = 0.5\r\n",
        "duration = 3\r\n",
        "robot.right(speed)\r\n",
        "time.sleep(duration)\r\n",
        "robot.stop()"
      ],
      "execution_count": null,
      "outputs": []
    },
    {
      "cell_type": "code",
      "metadata": {
        "id": "pR-y-IW3iUTf"
      },
      "source": [
        ""
      ],
      "execution_count": null,
      "outputs": []
    }
  ]
}